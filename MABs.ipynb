{
 "cells": [
  {
   "cell_type": "code",
   "execution_count": 1,
   "metadata": {},
   "outputs": [],
   "source": [
    "# Do not edit. These are the only imports permitted.\n",
    "import numpy as np\n",
    "from abc import ABC, abstractmethod\n",
    "from sklearn.tree import DecisionTreeClassifier   # for Task 4\n",
    "from sklearn.base import clone                    # optional for Task 4\n",
    "import matplotlib.pyplot as plt                   # for Task 5\n",
    "from sklearn.metrics.pairwise import rbf_kernel   # for Task 6"
   ]
  },
  {
   "cell_type": "code",
   "execution_count": 2,
   "metadata": {},
   "outputs": [],
   "source": [
    "class MAB(ABC):\n",
    "    \"\"\"Base class for a contextual multi-armed bandit (MAB)\n",
    "    \n",
    "    Parameters\n",
    "    ----------\n",
    "    n_arms : int\n",
    "        Number of arms.\n",
    "    \"\"\"\n",
    "    # initialise and raise input errors\n",
    "    def __init__(self, n_arms):\n",
    "        if not type(n_arms)==int:\n",
    "            raise TypeError(\"`n_arms` must be an integer\")\n",
    "        if not n_arms >= 0:\n",
    "            raise ValueError(\"`n_arms` must be non-negative\")\n",
    "        self.n_arms = n_arms\n",
    "        \n",
    "    @abstractmethod\n",
    "    # raise input errors\n",
    "    def play(self, context):\n",
    "        \"\"\"Play a round\n",
    "        \n",
    "        Parameters\n",
    "        ----------        \n",
    "        context : float numpy.ndarray, shape (n_arms, n_dims), optional\n",
    "            An array of context vectors presented to the MAB. The 0-th \n",
    "            axis indexes the arms, and the 1-st axis indexes the features.\n",
    "            Non-contextual bandits accept a context of None.\n",
    "        \n",
    "        Returns\n",
    "        -------\n",
    "        arm : int\n",
    "            Integer index of the arm played this round. Should be in the set \n",
    "            {0, ..., n_arms - 1}.\n",
    "        \"\"\"\n",
    "        if not type(context) == np.ndarray:\n",
    "            raise TypeError(\"`context` must be numpy.ndarray\")\n",
    "        if not context.shape == (n_arms, n_dims):\n",
    "            raise TypeError(\"`context` must have shape (n_arms, n_dims)\")\n",
    "        self.context = context\n",
    "\n",
    "    \n",
    "    @abstractmethod\n",
    "    # raise input errors\n",
    "    def update(self, arm, reward, context):\n",
    "        \"\"\"Update the internal state of the MAB after a play\n",
    "        \n",
    "        Parameters\n",
    "        ----------\n",
    "        arm : int\n",
    "            Integer index of the played arm in the set {0, ..., n_arms - 1}.\n",
    "        \n",
    "        reward : float\n",
    "            Reward received from the arm.\n",
    "        \n",
    "        context : float numpy.ndarray, shape (n_arms, n_dims), optional\n",
    "            An array of context vectors that was presented to the MAB. The \n",
    "            0-th axis indexes the arms, and the 1-st axis indexes the \n",
    "            features. Non-contextual bandits accept a context of None. \n",
    "        \"\"\"\n",
    "        if not (type(arm) == int or arm.dtype == 'int64'):\n",
    "            raise TypeError(\"`arm` must be int type\")\n",
    "        if not (arm >= 0 and arm <= (n_arms-1)):\n",
    "            raise ValueError(\"`arm` must be the the set {0, .., n_arms - 1}\")\n",
    "        if not (type(reward) == float or reward.dtype == 'float64'):\n",
    "            raise TypeError(\"`reward` must be float type\")\n",
    "        if not (context.shape == (n_arms, n_dims) and context.dtype == 'float64') :\n",
    "            raise TypeError(\"`context` must be float numpy in shape (n_events, n_arms, n_dims)\")\n",
    "        # get the values\n",
    "        self.arm = arm\n",
    "        self.reward = reward\n",
    "        self.context = context\n",
    "\n"
   ]
  },
  {
   "cell_type": "code",
   "execution_count": 3,
   "metadata": {},
   "outputs": [],
   "source": [
    "# Define global functions \n",
    "def break_tie(_range):\n",
    "    indices = np.argwhere(_range == np.max(_range))\n",
    "    index = np.random.randint(0,len(indices))\n",
    "\n",
    "    return indices[index][0]"
   ]
  },
  {
   "cell_type": "markdown",
   "metadata": {},
   "source": [
    "## Load dataset"
   ]
  },
  {
   "cell_type": "code",
   "execution_count": 4,
   "metadata": {},
   "outputs": [],
   "source": [
    "# load dataset here\n",
    "\n",
    "data = np.loadtxt(\"../ml-25m/bigdataset.txt\")\n",
    "arms, rewards, contexts = data[:,0], data[:,1], data[:,2:]\n",
    "arms = arms.astype(np.int64)\n",
    "rewards = rewards.astype(float)\n",
    "contexts = contexts.astype(float)\n",
    "n_arms = len(np.unique(arms))\n",
    "n_events = len(contexts)\n",
    "n_dims = int(len(contexts[0])/n_arms)\n",
    "contexts = contexts.reshape(n_events, n_arms, n_dims)\n",
    "    "
   ]
  },
  {
   "cell_type": "code",
   "execution_count": null,
   "metadata": {},
   "outputs": [],
   "source": [
    "import pandas as np\n"
   ]
  },
  {
   "cell_type": "markdown",
   "metadata": {},
   "source": [
    "## Off-policy evaluation"
   ]
  },
  {
   "cell_type": "code",
   "execution_count": 9,
   "metadata": {},
   "outputs": [],
   "source": [
    "def offlineEvaluate(mab, arms, rewards, contexts, n_rounds=None):\n",
    "    \"\"\"Offline evaluation of a multi-armed bandit\n",
    "    \n",
    "    Parameters\n",
    "    ----------\n",
    "    mab : instance of MAB\n",
    "        MAB to evaluate.\n",
    "    \n",
    "    arms : integer numpy.ndarray, shape (n_events,) \n",
    "        Array containing the history of pulled arms, represented as integer \n",
    "        indices in the set {0, ..., mab.n_arms}\n",
    "    \n",
    "    rewards : float numpy.ndarray, shape (n_events,)\n",
    "        Array containing the history of rewards.\n",
    "    \n",
    "    contexts : float numpy.ndarray, shape (n_events, n_arms, n_dims)\n",
    "        Array containing the history of contexts presented to the arms. \n",
    "        The 0-th axis indexes the events in the history, the 1-st axis \n",
    "        indexes the arms and the 2-nd axis indexed the features.\n",
    "        \n",
    "    n_rounds : int, default=None\n",
    "        Number of matching events to evaluate the MAB on. If None, \n",
    "        continue evaluating until the historical events are exhausted.\n",
    "    \n",
    "    Returns\n",
    "    -------\n",
    "    out : float numpy.ndarray\n",
    "        Rewards for the matching events.\n",
    "    \"\"\"\n",
    "    # initialise values and raise input errors\n",
    "    if not (arms.shape == (n_events,) and arms.dtype == 'int64')  :\n",
    "        raise TypeError(\"`arms` must be integer numpy in shape (n_events,)\")\n",
    "    if not rewards.shape == (n_events,) and rewards.dtype == 'float64' :\n",
    "        raise TypeError(\"`rewards` must be float numpy in shape (n_events,)\")\n",
    "    if not contexts.shape == (n_events,n_arms, n_dims) and rewards.dtype == 'float64' :\n",
    "        raise TypeError(\"`contexts` must be float numpy in shape (n_events, n_arms, n_dims)\")\n",
    "    if n_rounds == None:        # set n_rounds to infinite number to run until all data exhausted\n",
    "        n_rounds = np.inf\n",
    "    elif not type(n_rounds) == int:\n",
    "        raise TypeError(\"`n_rounds` must be integer or default 'None'\")\n",
    "\n",
    "    n_round = 0     # count the current round ; 0 indicates the first round\n",
    "    R = []          # save the total payoff\n",
    "    H = []          # save used historical events\n",
    "    acc = np.zeros(n_events)\n",
    "    \n",
    "    for i in range(n_events):\n",
    "        if n_round == n_rounds:\n",
    "            break\n",
    "        arm = mab.play(contexts[i])\n",
    "        if arm == arms[i]:                 # if historical data equals to chosen arm\n",
    "            R.append(rewards[i])           # append the new rewards\n",
    "            H.append([arms[i], rewards[i], contexts[i]])      # append the used events\n",
    "            mab.update(arms[i], rewards[i], contexts[i])      # update the information\n",
    "            n_round += 1\n",
    "            acc[i] = rewards[i]\n",
    "\n",
    "    # return rewards per play\n",
    "    out = np.array(H)\n",
    "        \n",
    "    return out, acc"
   ]
  },
  {
   "cell_type": "markdown",
   "metadata": {},
   "source": [
    "## 1. ε-greedy MAB"
   ]
  },
  {
   "cell_type": "code",
   "execution_count": 6,
   "metadata": {},
   "outputs": [],
   "source": [
    "class EpsGreedy(MAB):\n",
    "    \"\"\"Epsilon-Greedy multi-armed bandit\n",
    "\n",
    "    Parameters\n",
    "    ----------\n",
    "    n_arms : int\n",
    "        Number of arms\n",
    "\n",
    "    epsilon : float\n",
    "        Explore probability. Must be in the interval [0, 1].\n",
    "\n",
    "    Q0 : float, default=np.inf\n",
    "        Initial value for the arms.\n",
    "    \"\"\"\n",
    "    # initialise values and raise input errors\n",
    "    def __init__(self, n_arms, epsilon, Q0=np.inf):\n",
    "        super().__init__(n_arms)\n",
    "        if not (epsilon >= 0 and epsilon <= 1):\n",
    "            raise ValueError(\"`epsilon` must be a number in [0,1]\")\n",
    "        if not type(epsilon) == float:\n",
    "            raise TypeError(\"`epsilon` must be float\")\n",
    "        if not type(Q0) == float:\n",
    "            raise TypeError(\"`Q0` must be a float number or default value 'np.inf'\")\n",
    "            \n",
    "        self.epsilon = epsilon\n",
    "        self.q = np.full(n_arms, Q0)      # initialise q values\n",
    "        self.rewards = np.zeros(n_arms)     # keep the total rewards per arm\n",
    "        self.clicks = np.zeros(n_arms)      # count the pulled rounds per arm\n",
    "    \n",
    "    # select a random arm to explore or a arm with best rewards to exploit, then return the arm \n",
    "    def play(self, context=None):\n",
    "        super().play(context)\n",
    "        if np.random.random_sample() <= self.epsilon:           #explore\n",
    "            arm = np.random.randint(0,self.n_arms) \n",
    "        else:\n",
    "            arm = break_tie(self.q)\n",
    "        return arm \n",
    "    \n",
    "    # update values\n",
    "    def update(self, arm, reward, context=None):\n",
    "        super().update(arm, reward, context)\n",
    "        self.clicks[arm] += 1\n",
    "        self.rewards[arm] += self.reward\n",
    "        self.q[arm] = self.rewards[arm] / self.clicks[arm]\n",
    "        "
   ]
  },
  {
   "cell_type": "code",
   "execution_count": 11,
   "metadata": {},
   "outputs": [
    {
     "name": "stdout",
     "output_type": "stream",
     "text": [
      "EpsGreedy average reward 0.9638668303314212\n"
     ]
    },
    {
     "name": "stderr",
     "output_type": "stream",
     "text": [
      "C:\\Users\\johnl\\AppData\\Local\\Temp\\ipykernel_15224\\1428824342.py:59: VisibleDeprecationWarning: Creating an ndarray from ragged nested sequences (which is a list-or-tuple of lists-or-tuples-or ndarrays with different lengths or shapes) is deprecated. If you meant to do this, you must specify 'dtype=object' when creating the ndarray.\n",
      "  out = np.array(H)\n"
     ]
    }
   ],
   "source": [
    "mab = EpsGreedy(20, 0.05) \n",
    "results_EpsGreedy, acc = offlineEvaluate(mab, arms, rewards, contexts, len(arms))\n",
    "print('EpsGreedy average reward', np.mean(results_EpsGreedy[:, 1]))"
   ]
  },
  {
   "cell_type": "code",
   "execution_count": 8,
   "metadata": {},
   "outputs": [
    {
     "name": "stdout",
     "output_type": "stream",
     "text": [
      "5595608\n",
      "199373\n",
      "5595608\n"
     ]
    }
   ],
   "source": [
    "print(len(arms))\n",
    "print(len(results_EpsGreedy))\n",
    "print(n_events)"
   ]
  },
  {
   "cell_type": "code",
   "execution_count": 13,
   "metadata": {},
   "outputs": [
    {
     "data": {
      "text/plain": [
       "[<matplotlib.lines.Line2D at 0x15f443396f0>]"
      ]
     },
     "execution_count": 13,
     "metadata": {},
     "output_type": "execute_result"
    },
    {
     "data": {
      "image/png": "[encoded data removed]",
      "text/plain": [
       "<Figure size 432x288 with 1 Axes>"
      ]
     },
     "metadata": {
      "needs_background": "light"
     },
     "output_type": "display_data"
    }
   ],
   "source": [
    "from matplotlib import pyplot as plt\n",
    "plt.plot(np.cumsum(acc))\n",
    "# np.cumsum(acc)"
   ]
  },
  {
   "cell_type": "code",
   "execution_count": null,
   "metadata": {},
   "outputs": [],
   "source": [
    "class FairEpsGreedy(MAB):\n",
    "    \"\"\"Epsilon-Greedy multi-armed bandit\n",
    "\n",
    "    Parameters\n",
    "    ----------\n",
    "    n_arms : int\n",
    "        Number of arms\n",
    "\n",
    "    epsilon : float\n",
    "        Explore probability. Must be in the interval [0, 1].\n",
    "\n",
    "    Q0 : float, default=np.inf\n",
    "        Initial value for the arms.\n",
    "    \"\"\"\n",
    "    # initialise values and raise input errors\n",
    "    def __init__(self, n_arms, epsilon, Q0=np.inf):\n",
    "        super().__init__(n_arms)\n",
    "        if not (epsilon >= 0 and epsilon <= 1):\n",
    "            raise ValueError(\"`epsilon` must be a number in [0,1]\")\n",
    "        if not type(epsilon) == float:\n",
    "            raise TypeError(\"`epsilon` must be float\")\n",
    "        if not type(Q0) == float:\n",
    "            raise TypeError(\"`Q0` must be a float number or default value 'np.inf'\")\n",
    "            \n",
    "        self.epsilon = epsilon\n",
    "        self.q = np.full(n_arms, Q0)      # initialise q values\n",
    "        self.rewards = np.zeros(n_arms)     # keep the total rewards per arm\n",
    "        self.clicks = np.zeros(n_arms)      # count the pulled rounds per arm\n",
    "    \n",
    "    # select a random arm to explore or a arm with best rewards to exploit, then return the arm \n",
    "    def play(self, context=None):\n",
    "        super().play(context)\n",
    "        if np.random.random_sample() <= self.epsilon:           #explore\n",
    "            arm = np.random.randint(0,self.n_arms) \n",
    "        else:\n",
    "            arm = break_tie(self.q)\n",
    "        return arm \n",
    "    \n",
    "    # update values\n",
    "    def update(self, arm, reward, context=None):\n",
    "        super().update(arm, reward, context)\n",
    "        self.clicks[arm] += 1\n",
    "        self.rewards[arm] += self.reward\n",
    "        self.q[arm] = self.rewards[arm] / self.clicks[arm]\n",
    "        "
   ]
  },
  {
   "cell_type": "markdown",
   "metadata": {},
   "source": [
    "## 2. UCB MAB"
   ]
  },
  {
   "cell_type": "code",
   "execution_count": 25,
   "metadata": {},
   "outputs": [],
   "source": [
    "class UCB(MAB):\n",
    "    \"\"\"Upper Confidence Bound (UCB) multi-armed bandit\n",
    "\n",
    "    Parameters\n",
    "    ----------\n",
    "    n_arms : int\n",
    "        Number of arms.\n",
    "\n",
    "    rho : float\n",
    "        Positive real explore-exploit parameter.\n",
    "\n",
    "    Q0 : float, default=np.inf\n",
    "        Initial value for the arms.\n",
    "    \"\"\"\n",
    "    def __init__(self, n_arms, rho, Q0=np.inf):\n",
    "        super().__init__(n_arms)\n",
    "        if not rho > 0:\n",
    "            raise ValueError(\"`rho` must be positive\")\n",
    "        if not (type(rho) == float and np.isreal(rho)):\n",
    "            raise TypeError(\"`rho` must be real float\")\n",
    "        if not type(Q0) == float :\n",
    "            raise TypeError(\"`Q0` must be a float number or default value 'np.inf'\")\n",
    "            \n",
    "        self.rho = rho\n",
    "        self.q = np.full(n_arms, Q0)\n",
    "        self.rewards = np.zeros(n_arms)  \n",
    "        self.avg_rewards = np.zeros(n_arms)\n",
    "        self.clicks = np.zeros(n_arms)\n",
    "        self.round = 0        # to count the number of round played\n",
    "    \n",
    "    def play(self, context=None):\n",
    "        super().play(context)\n",
    "        self.round += 1\n",
    "        self.q = np.where(self.clicks != 0, self.avg_rewards + np.sqrt(self.rho * np.log10(self.round) / self.clicks), self.q)\n",
    "\n",
    "        arm = break_tie(self.q)\n",
    "        \n",
    "        return int(arm)\n",
    "        \n",
    "    def update(self, arm, reward, context=None):\n",
    "        super().update(arm, reward, context)\n",
    "        self.clicks[arm] += 1\n",
    "        self.rewards[arm] += reward\n",
    "        self.avg_rewards[arm] = self.rewards[arm]/ self.clicks[arm]\n",
    "        "
   ]
  },
  {
   "cell_type": "code",
   "execution_count": 26,
   "metadata": {},
   "outputs": [
    {
     "data": {
      "text/plain": [
       "{'divide': 'ignore', 'over': 'warn', 'under': 'ignore', 'invalid': 'ignore'}"
      ]
     },
     "execution_count": 26,
     "metadata": {},
     "output_type": "execute_result"
    }
   ],
   "source": [
    "# warning control\n",
    "np.seterr(divide='ignore', invalid='ignore')"
   ]
  },
  {
   "cell_type": "code",
   "execution_count": 27,
   "metadata": {},
   "outputs": [
    {
     "name": "stdout",
     "output_type": "stream",
     "text": [
      "UCB average reward 0.9742809734513275\n"
     ]
    }
   ],
   "source": [
    "mab = UCB(20, 1.0)\n",
    "results_UCB = offlineEvaluate(mab, arms, rewards, contexts,)\n",
    "print('UCB average reward', np.mean(results_UCB))\n"
   ]
  },
  {
   "cell_type": "markdown",
   "metadata": {},
   "source": [
    "## 3. LinUCB contextual MAB"
   ]
  },
  {
   "cell_type": "code",
   "execution_count": 28,
   "metadata": {},
   "outputs": [],
   "source": [
    "class LinUCB(MAB):\n",
    "    \"\"\"Contextual multi-armed bandit (LinUCB)\n",
    "\n",
    "    Parameters\n",
    "    ----------\n",
    "    n_arms : int\n",
    "        Number of arms.\n",
    "\n",
    "    n_dims : int\n",
    "        Number of features for each arm's context.\n",
    "\n",
    "    alpha : float\n",
    "        Positive real explore-exploit parameter.\n",
    "    \"\"\"\n",
    "    # initialise values and raise input errors\n",
    "    def __init__(self, n_arms, n_dims, alpha):\n",
    "        if not (type(n_dims) == int or n_dims.dtype == 'int64'):\n",
    "            raise TypeError(\"`n_dims` must be integer type\")\n",
    "        if not (type(alpha) == float or alpha.dtype == 'float64'):\n",
    "            raise TypeError(\"`alpha` must be float\")\n",
    "        if not (alpha > 0.0 and np.isreal(alpha)):\n",
    "            raise ValueError(\"`alpha` must be positive real\")\n",
    "        \n",
    "        super().__init__(n_arms) \n",
    "        self.n_dims = n_dims\n",
    "        self.alpha = alpha\n",
    "        self.post_dist = np.zeros(n_dims)\n",
    "        '''initialise keys and values; key is arm, A for covariance, inv_A for inverse of A, \n",
    "                                        b for reward, theta for coefficient vector''' \n",
    "        self.A = np.array(np.identity(n_dims))\n",
    "        self.inv_A = [np.linalg.inv(self.A)]*10\n",
    "        self.A  = [self.A]*10\n",
    "\n",
    "        self.b = [np.zeros(n_dims)]*10\n",
    "        self.theta = [(np.linalg.inv(np.identity(n_dims)) @  np.zeros(n_dims))]*10\n",
    "         \n",
    "    # return the best arm\n",
    "    def play(self, context):\n",
    "        super().play(context)\n",
    "        # calculate posterior distribution of the coefficient vector \n",
    "        for arm in range(self.n_arms):\n",
    "            inv_A = self.inv_A[arm]\n",
    "            theta = self.theta[arm]\n",
    "\n",
    "            # calculate posterior distribution of the coefficient vector\n",
    "            self.post_dist[arm] = theta @ context[arm] + self.alpha * np.sqrt(context[arm].T @ inv_A @ context[arm])\n",
    "            \n",
    "        arm = break_tie(self.post_dist)\n",
    "        return int(arm)    \n",
    "    \n",
    "    # update dictionary\n",
    "    def update(self, arm, reward, context):\n",
    "        super().update(arm, reward, context)\n",
    "        reshaped_context = context[arm].reshape(-1,1)   # reshape to the right form\n",
    "        self.A[arm] = self.A[arm] + reshaped_context @ reshaped_context.T\n",
    "        self.inv_A[arm] = np.linalg.inv(self.A[arm])\n",
    "        self.b[arm] = self.b[arm] + reward * context[arm]\n",
    "        self.theta[arm] = self.inv_A[arm] @ self.b[arm]\n",
    "        \n",
    "        \n",
    "        "
   ]
  },
  {
   "cell_type": "code",
   "execution_count": 29,
   "metadata": {},
   "outputs": [
    {
     "ename": "IndexError",
     "evalue": "index 1 is out of bounds for axis 0 with size 1",
     "output_type": "error",
     "traceback": [
      "\u001b[1;31m---------------------------------------------------------------------------\u001b[0m",
      "\u001b[1;31mIndexError\u001b[0m                                Traceback (most recent call last)",
      "\u001b[1;32md:\\Documents\\FAL22\\CSCI4830\\MABRec\\MABs.ipynb Cell 18\u001b[0m in \u001b[0;36m<cell line: 2>\u001b[1;34m()\u001b[0m\n\u001b[0;32m      <a href='vscode-notebook-cell:/d%3A/Documents/FAL22/CSCI4830/MABRec/MABs.ipynb#X23sZmlsZQ%3D%3D?line=0'>1</a>\u001b[0m mab \u001b[39m=\u001b[39m LinUCB(\u001b[39m20\u001b[39m, \u001b[39m1\u001b[39m, \u001b[39m1.0\u001b[39m)\n\u001b[1;32m----> <a href='vscode-notebook-cell:/d%3A/Documents/FAL22/CSCI4830/MABRec/MABs.ipynb#X23sZmlsZQ%3D%3D?line=1'>2</a>\u001b[0m results_LinUCB \u001b[39m=\u001b[39m offlineEvaluate(mab, arms, rewards, contexts,\u001b[39m800\u001b[39;49m)\n\u001b[0;32m      <a href='vscode-notebook-cell:/d%3A/Documents/FAL22/CSCI4830/MABRec/MABs.ipynb#X23sZmlsZQ%3D%3D?line=2'>3</a>\u001b[0m \u001b[39mprint\u001b[39m(\u001b[39m'\u001b[39m\u001b[39mLinUCB average reward\u001b[39m\u001b[39m'\u001b[39m, np\u001b[39m.\u001b[39mmean(results_LinUCB))\n",
      "\u001b[1;32md:\\Documents\\FAL22\\CSCI4830\\MABRec\\MABs.ipynb Cell 18\u001b[0m in \u001b[0;36mofflineEvaluate\u001b[1;34m(mab, arms, rewards, contexts, n_rounds)\u001b[0m\n\u001b[0;32m     <a href='vscode-notebook-cell:/d%3A/Documents/FAL22/CSCI4830/MABRec/MABs.ipynb#X23sZmlsZQ%3D%3D?line=47'>48</a>\u001b[0m \u001b[39mif\u001b[39;00m n_round \u001b[39m==\u001b[39m n_rounds:\n\u001b[0;32m     <a href='vscode-notebook-cell:/d%3A/Documents/FAL22/CSCI4830/MABRec/MABs.ipynb#X23sZmlsZQ%3D%3D?line=48'>49</a>\u001b[0m     \u001b[39mbreak\u001b[39;00m\n\u001b[1;32m---> <a href='vscode-notebook-cell:/d%3A/Documents/FAL22/CSCI4830/MABRec/MABs.ipynb#X23sZmlsZQ%3D%3D?line=49'>50</a>\u001b[0m arm \u001b[39m=\u001b[39m mab\u001b[39m.\u001b[39;49mplay(contexts[i])\n\u001b[0;32m     <a href='vscode-notebook-cell:/d%3A/Documents/FAL22/CSCI4830/MABRec/MABs.ipynb#X23sZmlsZQ%3D%3D?line=50'>51</a>\u001b[0m \u001b[39mif\u001b[39;00m arm \u001b[39m==\u001b[39m arms[i]:                 \u001b[39m# if historical data equals to chosen arm\u001b[39;00m\n\u001b[0;32m     <a href='vscode-notebook-cell:/d%3A/Documents/FAL22/CSCI4830/MABRec/MABs.ipynb#X23sZmlsZQ%3D%3D?line=51'>52</a>\u001b[0m     R\u001b[39m.\u001b[39mappend(rewards[i])           \u001b[39m# append the new rewards\u001b[39;00m\n",
      "\u001b[1;32md:\\Documents\\FAL22\\CSCI4830\\MABRec\\MABs.ipynb Cell 18\u001b[0m in \u001b[0;36mLinUCB.play\u001b[1;34m(self, context)\u001b[0m\n\u001b[0;32m     <a href='vscode-notebook-cell:/d%3A/Documents/FAL22/CSCI4830/MABRec/MABs.ipynb#X23sZmlsZQ%3D%3D?line=42'>43</a>\u001b[0m     theta \u001b[39m=\u001b[39m \u001b[39mself\u001b[39m\u001b[39m.\u001b[39mtheta[arm]\n\u001b[0;32m     <a href='vscode-notebook-cell:/d%3A/Documents/FAL22/CSCI4830/MABRec/MABs.ipynb#X23sZmlsZQ%3D%3D?line=44'>45</a>\u001b[0m     \u001b[39m# calculate posterior distribution of the coefficient vector\u001b[39;00m\n\u001b[1;32m---> <a href='vscode-notebook-cell:/d%3A/Documents/FAL22/CSCI4830/MABRec/MABs.ipynb#X23sZmlsZQ%3D%3D?line=45'>46</a>\u001b[0m     \u001b[39mself\u001b[39m\u001b[39m.\u001b[39mpost_dist[arm] \u001b[39m=\u001b[39m theta \u001b[39m@\u001b[39m context[arm] \u001b[39m+\u001b[39m \u001b[39mself\u001b[39m\u001b[39m.\u001b[39malpha \u001b[39m*\u001b[39m np\u001b[39m.\u001b[39msqrt(context[arm]\u001b[39m.\u001b[39mT \u001b[39m@\u001b[39m inv_A \u001b[39m@\u001b[39m context[arm])\n\u001b[0;32m     <a href='vscode-notebook-cell:/d%3A/Documents/FAL22/CSCI4830/MABRec/MABs.ipynb#X23sZmlsZQ%3D%3D?line=47'>48</a>\u001b[0m arm \u001b[39m=\u001b[39m break_tie(\u001b[39mself\u001b[39m\u001b[39m.\u001b[39mpost_dist)\n\u001b[0;32m     <a href='vscode-notebook-cell:/d%3A/Documents/FAL22/CSCI4830/MABRec/MABs.ipynb#X23sZmlsZQ%3D%3D?line=48'>49</a>\u001b[0m \u001b[39mreturn\u001b[39;00m \u001b[39mint\u001b[39m(arm)\n",
      "\u001b[1;31mIndexError\u001b[0m: index 1 is out of bounds for axis 0 with size 1"
     ]
    }
   ],
   "source": [
    "mab = LinUCB(20, 1, 1.0)\n",
    "results_LinUCB = offlineEvaluate(mab, arms, rewards, contexts,800)\n",
    "print('LinUCB average reward', np.mean(results_LinUCB))"
   ]
  },
  {
   "cell_type": "markdown",
   "metadata": {},
   "source": [
    "## 4. TreeBootstrap contextual MAB"
   ]
  },
  {
   "cell_type": "code",
   "execution_count": null,
   "metadata": {},
   "outputs": [],
   "source": [
    "class TreeBootstrap(MAB):\n",
    "    \"\"\"Contextual Thompson sampled multi-armed bandit (TreeBootstrap)\n",
    "\n",
    "    Parameters\n",
    "    ----------\n",
    "    n_arms : int\n",
    "        Number of arms.\n",
    "\n",
    "    n_dims : int\n",
    "        Number of features for each arm's context.\n",
    "\n",
    "    tree : instance of sklearn.tree.DecisionTreeClassifier, optional\n",
    "        Decision tree to use for predicting the expected future reward. \n",
    "        Defaults to sklearn.tree.DecisionTreeClassifier().\n",
    "    \"\"\"\n",
    "    # initialise values and raise input errors\n",
    "    def __init__(self, n_arms, n_dims, tree=DecisionTreeClassifier()):\n",
    "        super().__init__(n_arms)\n",
    "        if not type(n_dims) == int :\n",
    "            raise TypeError(\"`n_dims` must be integer type\")\n",
    "        self.n_dims = n_dims\n",
    "        self.tree = tree\n",
    "        self.D = [[[] for i in range(10) ] for j in range(1) ]\n",
    "        self.r = [[0 for i in range(10) ] for j in range(1) ]\n",
    "        self.prob = np.zeros(self.n_arms)  # create zero array to save predicted probability from treeclassifier\n",
    "        \n",
    "    # return the best arm \n",
    "    def play(self, context):\n",
    "        super().play(context)\n",
    "        for arm in range(self.n_arms):\n",
    "            shaped_context = context[arm].reshape(1, -1)         # reshape the form\n",
    "            if len(self.D[0][arm]) == 0:\n",
    "                # set decision tree to predict 1 regardless of the input\n",
    "                self.prob[arm] = 1.0  # predict 1 \n",
    "            else:\n",
    "                sample_context = self.D[0][arm]\n",
    "                sample_reward = self.r[0][arm]      \n",
    "                tree = self.tree.fit(sample_context, sample_reward)          # train the tree classifier\n",
    "                temp_p = tree.predict_proba(shaped_context)      # predict the probability of the current context \n",
    "                self.prob[arm] = temp_p[0][1]                   # save it\n",
    "        arm = break_tie(self.prob)\n",
    "        \n",
    "        return arm                \n",
    "    \n",
    "    # update \n",
    "    def update(self, arm, reward, context):\n",
    "        super().update(arm, reward, context)\n",
    "        shaped_context = context[arm].reshape(1, -1)             # reshape the form\n",
    "\n",
    "        if len(self.D[0][arm]) == 0:\n",
    "            self.D[0][arm] = np.vstack((shaped_context, shaped_context))\n",
    "            self.r[0][arm] = np.vstack((np.array([0.]),np.array([1.])))     \n",
    "\n",
    "        self.D[0][arm] = np.vstack((self.D[0][arm], shaped_context))\n",
    "        self.r[0][arm] = np.vstack((self.r[0][arm], reward))\n",
    "\n",
    "            "
   ]
  },
  {
   "cell_type": "code",
   "execution_count": null,
   "metadata": {
    "scrolled": true
   },
   "outputs": [
    {
     "name": "stdout",
     "output_type": "stream",
     "text": [
      "TreeBootstrap average reward 0.99375\n"
     ]
    }
   ],
   "source": [
    "mab = TreeBootstrap(10, 10)\n",
    "results_TreeBootstrap = offlineEvaluate(mab, arms, rewards, contexts, 800) \n",
    "print('TreeBootstrap average reward', np.mean(results_TreeBootstrap))"
   ]
  },
  {
   "cell_type": "markdown",
   "metadata": {},
   "source": [
    "## Evaluation and hyperparameter tuning for LinUCB"
   ]
  },
  {
   "cell_type": "code",
   "execution_count": null,
   "metadata": {},
   "outputs": [
    {
     "data": {
      "image/png": "[encoded data removed]",
      "text/plain": [
       "<Figure size 432x288 with 1 Axes>"
      ]
     },
     "metadata": {
      "needs_background": "light"
     },
     "output_type": "display_data"
    }
   ],
   "source": [
    "# plot cumulative reward per round \n",
    "eg_results, ucb_results, linucb_results, tbs_results, round_list = [], [], [], [], []  # create lists\n",
    "n_rounds = 800                                       # the total number of rounds \n",
    "eg_sum, ucb_sum,linucb_sum, tbs_sum = 0, 0, 0, 0     # set the initial reward sum\n",
    "\n",
    "# get the 800 results from the previous run per each algorithm \n",
    "for n_round in range(1, n_rounds + 1):              # start from 1 to avoid zero devision error\n",
    "    eg_sum += results_EpsGreedy[n_round-1]\n",
    "    ucb_sum += results_UCB[n_round-1]\n",
    "    #linucb_sum += results_LinUCB[n_round-1] \n",
    "    tbs_sum += results_TreeBootstrap[n_round-1]\n",
    "    eg_results.append(eg_sum/n_round)\n",
    "    ucb_results.append(ucb_sum/n_round)\n",
    "    #linucb_results.append(linucb_sum/n_round)\n",
    "    tbs_results.append(tbs_sum/n_round)\n",
    "    round_list.append(n_round)\n",
    "\n",
    "# plot the results\n",
    "plt.plot(round_list,eg_results, label = \"EpsGreedy\")\n",
    "plt.plot(round_list,ucb_results, label = \"UCB\")\n",
    "#plt.plot(round_list,linucb_results, label = \"LinUCB\")\n",
    "plt.plot(round_list,tbs_results, label = \"TreeBootstrap\")\n",
    "\n",
    "plt.ylabel('Cumulative Reward Per-Round')\n",
    "plt.xlabel('Rounds')\n",
    "plt.legend()\n",
    "plt.show()"
   ]
  },
  {
   "cell_type": "code",
   "execution_count": null,
   "metadata": {},
   "outputs": [
    {
     "data": {
      "image/png": "[encoded data removed]",
      "text/plain": [
       "<Figure size 1440x360 with 1 Axes>"
      ]
     },
     "metadata": {
      "needs_background": "light"
     },
     "output_type": "display_data"
    },
    {
     "name": "stdout",
     "output_type": "stream",
     "text": [
      "The best alpha for LinUCB is 0.026 with reward 0.73375\n"
     ]
    }
   ],
   "source": [
    "# hyperparameter optimization\n",
    "alpha_list = np.logspace(-3,0,num= 20)    # generate valid alpha values\n",
    "n_rounds = 800                            # set the initial number of round\n",
    "max_reward = -np.inf                      # set the initial max reward\n",
    "best_alpha = None                         # set the initial best alpha\n",
    "results = []\n",
    "\n",
    "# run with a set of alpha\n",
    "for alpha in alpha_list:\n",
    "    grid_mab = LinUCB(10, 10, alpha)\n",
    "    temp_result = offlineEvaluate(grid_mab, arms, rewards, contexts, n_rounds)\n",
    "    temp_result = np.mean(temp_result)\n",
    "    results.append(temp_result)\n",
    "    if temp_result > max_reward:  # get the maximum mean rewards with the best alpha\n",
    "        best_alpha = alpha\n",
    "        max_reward = temp_result\n",
    "\n",
    "\n",
    "# show the plot\n",
    "plt.rcParams[\"figure.figsize\"] = (20,5)\n",
    "plt.plot(alpha_list,results)\n",
    "plt.xticks(alpha_list, rotation = 'vertical')\n",
    "plt.title('the best alpha')\n",
    "plt.ylabel('Mean Reward')\n",
    "plt.xlabel('parameter - alpha')\n",
    "plt.show()\n",
    "print(\"The best alpha for LinUCB is\", round(best_alpha, 3), \"with reward\", max_reward)\n",
    "\n",
    "#The best alpha for LinUCB is 0.026 with reward 0.73375"
   ]
  },
  {
   "cell_type": "markdown",
   "metadata": {},
   "source": [
    "## 6. Implement KernelUCB contextual MAB"
   ]
  },
  {
   "cell_type": "code",
   "execution_count": null,
   "metadata": {},
   "outputs": [],
   "source": [
    "class KernelUCB(MAB):\n",
    "    \"\"\"Kernelised contextual multi-armed bandit (Kernelised LinUCB)\n",
    "    \n",
    "    Parameters\n",
    "    ----------\n",
    "    n_arms : int\n",
    "        Number of arms.\n",
    "\n",
    "    n_dims : int\n",
    "        Number of features for each arm's context.\n",
    "\n",
    "    gamma : float\n",
    "        Positive real explore-exploit parameter.\n",
    "    \n",
    "    eta : float\n",
    "        Positive real explore-exploit parameter.\n",
    "    \n",
    "    kern : callable\n",
    "        A kernel function from sklearn.metrics.pairwise.\n",
    "    \"\"\"\n",
    "    # initialise values and raise input errors\n",
    "    def __init__(self, n_arms, n_dims, gamma, eta, kern):\n",
    "        super().__init__(n_arms)\n",
    "        if not type(n_dims) == int :\n",
    "            raise TypeError(\"`n_dims` must be integer type\")\n",
    "        if not (type(gamma) == float  or gamma.dtype == 'float64'):\n",
    "            raise TypeError(\"`gamma` must be float type\")\n",
    "        if not np.isreal(gamma):\n",
    "            raise ValueError(\"`gamma` must be a real number\")\n",
    "        if not (type(eta) == float  or eta.dtype == 'float64'):\n",
    "            raise TypeError(\"`eta` must be float type\")    \n",
    "        if not np.isreal(eta):\n",
    "            raise ValueError(\"`eta` must be a real number\")\n",
    "            \n",
    "        self.n_dims = n_dims                # the number of dimension\n",
    "        self.gamma = gamma                  # regularization parameter\n",
    "        self.eta  = eta                     # exploration parameter\n",
    "        self.kern = kern                    # kernel function\n",
    "        self.inv_K = None                   # inversed kernel matrices\n",
    "        self.u = np.zeros(self.n_arms)      # upper bounds of probability\n",
    "        self.y = np.empty(0)                # reward history\n",
    "        self.pre_x = np.empty(0)            # collect the previous contexts(x) for b\n",
    "        self.n_round = 0                    # count the number of round \n",
    "    \n",
    "    # return the arm with the highest upper bounds of rewards\n",
    "    def play(self, context):\n",
    "        super().play(context)\n",
    "        if self.n_round == 0:               # set the initial upper bound reward\n",
    "            self.u[0] = 1.0\n",
    "        else:\n",
    "            k = self.kern(context, self.pre_x)         # calculate all kernel fn for previous contexts\n",
    "            for arm in range(self.n_arms):\n",
    "                shaped_context = context[arm].reshape(1, -1)\n",
    "                sigma = np.sqrt(self.kern(shaped_context, shaped_context) - k[arm] @ self.inv_K  @ k[arm])   # calculate width (sigma)\n",
    "                self.u[arm] = k[arm] @ self.inv_K @ self.y + (self.eta / np.sqrt(self.gamma)) * sigma        # calculate upper bound\n",
    "\n",
    "        arm = break_tie(self.u)\n",
    "        return arm\n",
    "       \n",
    "    def update(self, arm, reward, context):\n",
    "        shaped_context = context[arm].reshape(1, -1)            # reshape context\n",
    "        shaped_reward = np.array(reward).reshape(1, -1)         # reshape reward\n",
    "   \n",
    "        if self.n_round == 0:                                   # set the first values \n",
    "            self.y = shaped_reward\n",
    "            self.pre_x = shaped_context\n",
    "            self.K = self.kern(shaped_context, shaped_context) + self.gamma\n",
    "            self.inv_K  = 1 / (self.K)                        \n",
    "            \n",
    "        else:\n",
    "            self.y = np.r_[self.y, shaped_reward]               # update reward\n",
    "            k = self.kern(context, self.pre_x)                  # calculate k (xa,t)\n",
    "            b = k[arm].reshape(self.n_round, 1)\n",
    "        \n",
    "            bT_invK = b.T @ self.inv_K                          # previously calculate expensive calculation\n",
    "            invK_b = self.inv_K  @ b\n",
    "            K22 = np.linalg.inv(self.kern(shaped_context, shaped_context) + self.gamma - bT_invK @ b) \n",
    "            K11 = self.inv_K + K22 * invK_b @ bT_invK\n",
    "            K12 = - K22 * invK_b\n",
    "            K21 = - K22 * bT_invK\n",
    "            \n",
    "            self.pre_x = np.r_[self.pre_x, shaped_context]      # update previous context\n",
    "            self.inv_K = np.vstack((np.hstack((K11, K12)), np.hstack((K21, K22))))    # update inverse K value\n",
    "            \n",
    "        self.n_round += 1\n",
    "            \n",
    "        "
   ]
  },
  {
   "cell_type": "code",
   "execution_count": null,
   "metadata": {},
   "outputs": [
    {
     "name": "stdout",
     "output_type": "stream",
     "text": [
      "KernelUCB average reward 0.67875\n"
     ]
    }
   ],
   "source": [
    "mab = KernelUCB(10, 10, 1.0, 0.1, rbf_kernel)\n",
    "results_KernelUCB = offlineEvaluate(mab, arms, rewards, contexts, 800)\n",
    "print('KernelUCB average reward', np.mean(results_KernelUCB))"
   ]
  },
  {
   "cell_type": "code",
   "execution_count": null,
   "metadata": {},
   "outputs": [
    {
     "name": "stdout",
     "output_type": "stream",
     "text": [
      "The best gamma for Kernel UCB is { 0.5 } with reward 0.77625\n",
      "The best eta for Kernel UCB is { 0.25 } with reward 0.79125\n"
     ]
    }
   ],
   "source": [
    "# hyperparameter optimization\n",
    "gamma_list = np.linspace(0, 1, num = 11)[1:]       # generate valid gamma values & remove 0.0\n",
    "eta_list = np.linspace(0, 0.5, num = 11)[1:]       # generate valid eta values & remove 0.0\n",
    "n_rounds = 800                                     # set the initial number of round\n",
    "gam_max_reward, eta_max_reward = -np.inf, -np.inf  # set the initial max reward for gamma and eta\n",
    "\n",
    "# get the maximum mean rewards with the the initial eta\n",
    "eta = 0.1\n",
    "for gam in gamma_list:\n",
    "    grid_mab = KernelUCB(10, 10, gam, eta, rbf_kernel)\n",
    "    temp_result = offlineEvaluate(grid_mab, arms, rewards, contexts, n_rounds)\n",
    "    temp_result = np.mean(temp_result)\n",
    "    if temp_result > gam_max_reward:      # get the maximum mean rewards with the best eta and gamma\n",
    "        gam_max_reward = temp_result  \n",
    "        best_gamma = gam\n",
    "\n",
    "print(\"The best gamma for Kernel UCB is {\", round(best_gamma, 3), \"} with reward\", gam_max_reward)\n",
    "\n",
    "for eta in eta_list:\n",
    "    grid_mab = KernelUCB(10, 10, best_gamma, eta, rbf_kernel)\n",
    "    temp_result = offlineEvaluate(grid_mab, arms, rewards, contexts, n_rounds)\n",
    "    temp_result = np.mean(temp_result)\n",
    "    if temp_result > eta_max_reward:   # get the maximum mean rewards with the best gamma\n",
    "        eta_max_reward = temp_result\n",
    "        best_eta =  eta\n",
    "        \n",
    "print(\"The best eta for Kernel UCB is {\", round(best_eta, 3), \"} with reward\", eta_max_reward)\n"
   ]
  },
  {
   "cell_type": "code",
   "execution_count": null,
   "metadata": {},
   "outputs": [
    {
     "data": {
      "image/png": "[encoded data removed]",
      "text/plain": [
       "<Figure size 576x360 with 1 Axes>"
      ]
     },
     "metadata": {
      "needs_background": "light"
     },
     "output_type": "display_data"
    }
   ],
   "source": [
    "# your plotting code here LinUCB vs Kernel UCB\n",
    "best_lin_results, best_ker_results, round_list = [], [], []        # create lists for results\n",
    "n_rounds = 800                                                     # the total number of rounds \n",
    "best_lin_sum, best_ker_sum = 0, 0                                  # set the initial reward sum\n",
    "\n",
    "best_lin_mab = LinUCB(10, 10, best_alpha)\n",
    "best_results_LinUCB = offlineEvaluate(best_lin_mab, arms, rewards, contexts,800)\n",
    "\n",
    "# run UCB algorithms\n",
    "best_kernel_mab = KernelUCB(10, 10, best_gamma, best_eta , rbf_kernel)\n",
    "best_results_KernelUCB = offlineEvaluate(best_kernel_mab, arms, rewards, contexts, 800)\n",
    "\n",
    "for n_round in range(1, n_rounds + 1):\n",
    "    best_lin_sum += best_results_LinUCB[n_round-1] \n",
    "    best_ker_sum += best_results_KernelUCB[n_round-1]\n",
    "    \n",
    "    # append ccumulative rewards\n",
    "    best_lin_results.append(best_lin_sum/n_round)\n",
    "    best_ker_results.append(best_ker_sum/n_round)\n",
    "    round_list.append(n_round)\n",
    "\n",
    "# plot \n",
    "plt.rcParams[\"figure.figsize\"] = (8,5)\n",
    "plt.plot(round_list, best_lin_results, label = \"LinUCB\")\n",
    "plt.plot(round_list, best_ker_results, label = \"kernelUCB\")\n",
    "\n",
    "plt.ylabel('Cumulative Reward Per-Round')\n",
    "plt.xlabel('Rounds')\n",
    "plt.legend()\n",
    "plt.show()"
   ]
  }
 ],
 "metadata": {
  "kernelspec": {
   "display_name": "Python 3.10.4 64-bit",
   "language": "python",
   "name": "python3"
  },
  "language_info": {
   "codemirror_mode": {
    "name": "ipython",
    "version": 3
   },
   "file_extension": ".py",
   "mimetype": "text/x-python",
   "name": "python",
   "nbconvert_exporter": "python",
   "pygments_lexer": "ipython3",
   "version": "3.10.4"
  },
  "vscode": {
   "interpreter": {
    "hash": "369f2c481f4da34e4445cda3fffd2e751bd1c4d706f27375911949ba6bb62e1c"
   }
  }
 },
 "nbformat": 4,
 "nbformat_minor": 4
}
