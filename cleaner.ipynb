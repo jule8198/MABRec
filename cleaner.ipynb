{
 "cells": [
  {
   "cell_type": "code",
   "execution_count": 23,
   "metadata": {},
   "outputs": [],
   "source": [
    "import numpy as np\n",
    "import pandas as pd\n",
    "import itertools\n",
    "import json"
   ]
  },
  {
   "cell_type": "code",
   "execution_count": 6,
   "metadata": {},
   "outputs": [
    {
     "data": {
      "text/plain": [
       "{'Adventure': 1263,\n",
       " 'Animation': 611,\n",
       " 'Children': 664,\n",
       " 'Comedy': 3756,\n",
       " 'Fantasy': 779,\n",
       " 'Romance': 1596,\n",
       " 'Drama': 4361,\n",
       " 'Action': 1828,\n",
       " 'Crime': 1199,\n",
       " 'Thriller': 1894,\n",
       " 'Horror': 978,\n",
       " 'Mystery': 573,\n",
       " 'Sci-Fi': 980,\n",
       " 'War': 382,\n",
       " 'Musical': 334,\n",
       " 'Documentary': 440,\n",
       " 'IMAX': 158,\n",
       " 'Western': 167,\n",
       " 'Film-Noir': 87,\n",
       " '(no genres listed)': 34}"
      ]
     },
     "execution_count": 6,
     "metadata": {},
     "output_type": "execute_result"
    }
   ],
   "source": [
    "movies = pd.read_csv(\"./ml-latest-small/movies.csv\")\n",
    "# movies['genres'].str.split('|')\n",
    "# set(itertools.chain.from_iterable(movies.genres))\n",
    "# np.unique([*itertools.chain.from_iterable(movies.genres)])\n",
    "genre = {}\n",
    "for l in movies['genres'].str.split('|'):\n",
    "    for g in l:\n",
    "        if g not in genre:\n",
    "            genre[g] = 1\n",
    "        else:\n",
    "            genre[g] += 1\n",
    "            \n",
    "genre\n",
    "# movies.head()\n"
   ]
  },
  {
   "cell_type": "code",
   "execution_count": 13,
   "metadata": {},
   "outputs": [],
   "source": [
    "genretoidx = {}\n",
    "idxtogenre = []\n",
    "for i, g in enumerate(genre):\n",
    "    # print(g, i)\n",
    "    genretoidx[g] = i\n",
    "    idxtogenre.append(g)\n",
    "    \n",
    "# print(genretoidx, idxtogenre)"
   ]
  },
  {
   "cell_type": "code",
   "execution_count": 32,
   "metadata": {},
   "outputs": [],
   "source": [
    "def toVec(genres):\n",
    "    vec = [0] * 20\n",
    "    # print(genres)\n",
    "    for g in genres.split('|'):\n",
    "        # print(g)\n",
    "        vec[genretoidx[g]] += 1\n",
    "    return vec\n",
    "    \n",
    "genredict = {m[0] : toVec(m[1]) for m in movies[['movieId','genres']].to_numpy()}\n",
    "# print(genredict)\n",
    "# json.dumps(genredict)\n",
    "with open('data.json', 'w') as fp:\n",
    "    json.dump(genredict, fp)"
   ]
  },
  {
   "cell_type": "code",
   "execution_count": 35,
   "metadata": {},
   "outputs": [
    {
     "data": {
      "text/html": [
       "<div>\n",
       "<style scoped>\n",
       "    .dataframe tbody tr th:only-of-type {\n",
       "        vertical-align: middle;\n",
       "    }\n",
       "\n",
       "    .dataframe tbody tr th {\n",
       "        vertical-align: top;\n",
       "    }\n",
       "\n",
       "    .dataframe thead th {\n",
       "        text-align: right;\n",
       "    }\n",
       "</style>\n",
       "<table border=\"1\" class=\"dataframe\">\n",
       "  <thead>\n",
       "    <tr style=\"text-align: right;\">\n",
       "      <th></th>\n",
       "      <th>userId</th>\n",
       "      <th>movieId</th>\n",
       "      <th>rating</th>\n",
       "      <th>timestamp</th>\n",
       "    </tr>\n",
       "  </thead>\n",
       "  <tbody>\n",
       "    <tr>\n",
       "      <th>0</th>\n",
       "      <td>1</td>\n",
       "      <td>1</td>\n",
       "      <td>4.0</td>\n",
       "      <td>964982703</td>\n",
       "    </tr>\n",
       "    <tr>\n",
       "      <th>1</th>\n",
       "      <td>1</td>\n",
       "      <td>3</td>\n",
       "      <td>4.0</td>\n",
       "      <td>964981247</td>\n",
       "    </tr>\n",
       "    <tr>\n",
       "      <th>2</th>\n",
       "      <td>1</td>\n",
       "      <td>6</td>\n",
       "      <td>4.0</td>\n",
       "      <td>964982224</td>\n",
       "    </tr>\n",
       "    <tr>\n",
       "      <th>3</th>\n",
       "      <td>1</td>\n",
       "      <td>47</td>\n",
       "      <td>5.0</td>\n",
       "      <td>964983815</td>\n",
       "    </tr>\n",
       "    <tr>\n",
       "      <th>4</th>\n",
       "      <td>1</td>\n",
       "      <td>50</td>\n",
       "      <td>5.0</td>\n",
       "      <td>964982931</td>\n",
       "    </tr>\n",
       "  </tbody>\n",
       "</table>\n",
       "</div>"
      ],
      "text/plain": [
       "   userId  movieId  rating  timestamp\n",
       "0       1        1     4.0  964982703\n",
       "1       1        3     4.0  964981247\n",
       "2       1        6     4.0  964982224\n",
       "3       1       47     5.0  964983815\n",
       "4       1       50     5.0  964982931"
      ]
     },
     "execution_count": 35,
     "metadata": {},
     "output_type": "execute_result"
    }
   ],
   "source": [
    "ratings = pd.read_csv(\"./ml-latest-small/ratings.csv\")\n",
    "# ratings.groupby('userId').transform(lambda x: (x - x.mean()) / x.std())\n",
    "ratings.head()"
   ]
  },
  {
   "cell_type": "code",
   "execution_count": 59,
   "metadata": {},
   "outputs": [
    {
     "data": {
      "text/html": [
       "<div>\n",
       "<style scoped>\n",
       "    .dataframe tbody tr th:only-of-type {\n",
       "        vertical-align: middle;\n",
       "    }\n",
       "\n",
       "    .dataframe tbody tr th {\n",
       "        vertical-align: top;\n",
       "    }\n",
       "\n",
       "    .dataframe thead th {\n",
       "        text-align: right;\n",
       "    }\n",
       "</style>\n",
       "<table border=\"1\" class=\"dataframe\">\n",
       "  <thead>\n",
       "    <tr style=\"text-align: right;\">\n",
       "      <th></th>\n",
       "      <th>userId</th>\n",
       "      <th>movieId</th>\n",
       "      <th>rating</th>\n",
       "      <th>timestamp</th>\n",
       "      <th>genrating</th>\n",
       "    </tr>\n",
       "  </thead>\n",
       "  <tbody>\n",
       "    <tr>\n",
       "      <th>0</th>\n",
       "      <td>1</td>\n",
       "      <td>1</td>\n",
       "      <td>-0.457947</td>\n",
       "      <td>964982703</td>\n",
       "      <td>[-0.45794663435835375, -0.45794663435835375, -...</td>\n",
       "    </tr>\n",
       "    <tr>\n",
       "      <th>1</th>\n",
       "      <td>1</td>\n",
       "      <td>3</td>\n",
       "      <td>-0.457947</td>\n",
       "      <td>964981247</td>\n",
       "      <td>[-0.0, -0.0, -0.0, -0.45794663435835375, -0.0,...</td>\n",
       "    </tr>\n",
       "    <tr>\n",
       "      <th>2</th>\n",
       "      <td>1</td>\n",
       "      <td>6</td>\n",
       "      <td>-0.457947</td>\n",
       "      <td>964982224</td>\n",
       "      <td>[-0.0, -0.0, -0.0, -0.0, -0.0, -0.0, -0.0, -0....</td>\n",
       "    </tr>\n",
       "    <tr>\n",
       "      <th>3</th>\n",
       "      <td>1</td>\n",
       "      <td>47</td>\n",
       "      <td>0.791978</td>\n",
       "      <td>964983815</td>\n",
       "      <td>[0.0, 0.0, 0.0, 0.0, 0.0, 0.0, 0.0, 0.0, 0.0, ...</td>\n",
       "    </tr>\n",
       "    <tr>\n",
       "      <th>4</th>\n",
       "      <td>1</td>\n",
       "      <td>50</td>\n",
       "      <td>0.791978</td>\n",
       "      <td>964982931</td>\n",
       "      <td>[0.0, 0.0, 0.0, 0.0, 0.0, 0.0, 0.0, 0.0, 0.791...</td>\n",
       "    </tr>\n",
       "  </tbody>\n",
       "</table>\n",
       "</div>"
      ],
      "text/plain": [
       "   userId  movieId    rating  timestamp  \\\n",
       "0       1        1 -0.457947  964982703   \n",
       "1       1        3 -0.457947  964981247   \n",
       "2       1        6 -0.457947  964982224   \n",
       "3       1       47  0.791978  964983815   \n",
       "4       1       50  0.791978  964982931   \n",
       "\n",
       "                                           genrating  \n",
       "0  [-0.45794663435835375, -0.45794663435835375, -...  \n",
       "1  [-0.0, -0.0, -0.0, -0.45794663435835375, -0.0,...  \n",
       "2  [-0.0, -0.0, -0.0, -0.0, -0.0, -0.0, -0.0, -0....  \n",
       "3  [0.0, 0.0, 0.0, 0.0, 0.0, 0.0, 0.0, 0.0, 0.0, ...  \n",
       "4  [0.0, 0.0, 0.0, 0.0, 0.0, 0.0, 0.0, 0.0, 0.791...  "
      ]
     },
     "execution_count": 59,
     "metadata": {},
     "output_type": "execute_result"
    }
   ],
   "source": [
    "def fx(rating, movieId):\n",
    "    # print(genredict[movieId], rating)\n",
    "    return (rating * np.array(genredict[movieId])).astype(object)\n",
    "ratings['rating'] = ratings.groupby('userId')['rating'].transform(lambda x: (x - x.mean()) / x.std())\n",
    "ratings['genrating'] = np.vectorize(fx)(ratings['rating'], ratings['movieId'])\n",
    "ratings.head()"
   ]
  },
  {
   "cell_type": "code",
   "execution_count": 1,
   "metadata": {},
   "outputs": [
    {
     "ename": "NameError",
     "evalue": "name 'ratings' is not defined",
     "output_type": "error",
     "traceback": [
      "\u001b[1;31m---------------------------------------------------------------------------\u001b[0m",
      "\u001b[1;31mNameError\u001b[0m                                 Traceback (most recent call last)",
      "\u001b[1;32md:\\Documents\\FAL22\\CSCI4830\\MABRec\\cleaner.ipynb Cell 7\u001b[0m in \u001b[0;36m<cell line: 1>\u001b[1;34m()\u001b[0m\n\u001b[1;32m----> <a href='vscode-notebook-cell:/d%3A/Documents/FAL22/CSCI4830/MABRec/cleaner.ipynb#W6sZmlsZQ%3D%3D?line=0'>1</a>\u001b[0m ratings\u001b[39m.\u001b[39mgroupby(\u001b[39m'\u001b[39m\u001b[39muserId\u001b[39m\u001b[39m'\u001b[39m)[\u001b[39m'\u001b[39m\u001b[39mgenrating\u001b[39m\u001b[39m'\u001b[39m]\n",
      "\u001b[1;31mNameError\u001b[0m: name 'ratings' is not defined"
     ]
    }
   ],
   "source": [
    "ratings.groupby('userId')['genrating']\n"
   ]
  }
 ],
 "metadata": {
  "kernelspec": {
   "display_name": "Python 3.10.4 64-bit",
   "language": "python",
   "name": "python3"
  },
  "language_info": {
   "codemirror_mode": {
    "name": "ipython",
    "version": 3
   },
   "file_extension": ".py",
   "mimetype": "text/x-python",
   "name": "python",
   "nbconvert_exporter": "python",
   "pygments_lexer": "ipython3",
   "version": "3.10.4"
  },
  "orig_nbformat": 4,
  "vscode": {
   "interpreter": {
    "hash": "369f2c481f4da34e4445cda3fffd2e751bd1c4d706f27375911949ba6bb62e1c"
   }
  }
 },
 "nbformat": 4,
 "nbformat_minor": 2
}
