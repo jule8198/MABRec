{
 "cells": [
  {
   "cell_type": "code",
   "execution_count": 2,
   "metadata": {},
   "outputs": [],
   "source": [
    "import numpy as np\n",
    "import pandas as pd\n",
    "import json\n",
    "import sklearn as skl\n",
    "from sklearn.model_selection import GroupShuffleSplit"
   ]
  },
  {
   "cell_type": "code",
   "execution_count": 3,
   "metadata": {},
   "outputs": [
    {
     "data": {
      "text/plain": [
       "{'Adventure': 1263,\n",
       " 'Animation': 611,\n",
       " 'Children': 664,\n",
       " 'Comedy': 3756,\n",
       " 'Fantasy': 779,\n",
       " 'Romance': 1596,\n",
       " 'Drama': 4361,\n",
       " 'Action': 1828,\n",
       " 'Crime': 1199,\n",
       " 'Thriller': 1894,\n",
       " 'Horror': 978,\n",
       " 'Mystery': 573,\n",
       " 'Sci-Fi': 980,\n",
       " 'War': 382,\n",
       " 'Musical': 334,\n",
       " 'Documentary': 440,\n",
       " 'IMAX': 158,\n",
       " 'Western': 167,\n",
       " 'Film-Noir': 87,\n",
       " '(no genres listed)': 34}"
      ]
     },
     "execution_count": 3,
     "metadata": {},
     "output_type": "execute_result"
    }
   ],
   "source": [
    "movies = pd.read_csv(\"./ml-latest-small/movies.csv\")\n",
    "# movies['genres'].str.split('|')\n",
    "# set(itertools.chain.from_iterable(movies.genres))\n",
    "# np.unique([*itertools.chain.from_iterable(movies.genres)])\n",
    "genre = {}\n",
    "for l in movies['genres'].str.split('|'):\n",
    "    for g in l:\n",
    "        if g not in genre:\n",
    "            genre[g] = 1\n",
    "        else:\n",
    "            genre[g] += 1\n",
    "            \n",
    "genre\n",
    "# movies.head()\n"
   ]
  },
  {
   "cell_type": "code",
   "execution_count": 4,
   "metadata": {},
   "outputs": [],
   "source": [
    "genretoidx = {}\n",
    "idxtogenre = []\n",
    "for i, g in enumerate(genre):\n",
    "    # print(g, i)\n",
    "    genretoidx[g] = i\n",
    "    idxtogenre.append(g)\n",
    "    \n",
    "# print(genretoidx, idxtogenre)"
   ]
  },
  {
   "cell_type": "code",
   "execution_count": 5,
   "metadata": {},
   "outputs": [],
   "source": [
    "def toVec(genres):\n",
    "    vec = [0] * 20\n",
    "    # print(genres)\n",
    "    for g in genres.split('|'):\n",
    "        # print(g)\n",
    "        vec[genretoidx[g]] += 1\n",
    "    return vec\n",
    "    \n",
    "genredict = {m[0] : toVec(m[1]) for m in movies[['movieId','genres']].to_numpy()}\n",
    "# print(genredict)\n",
    "# json.dumps(genredict)\n",
    "with open('data.json', 'w') as fp:\n",
    "    json.dump(genredict, fp)"
   ]
  },
  {
   "cell_type": "code",
   "execution_count": 6,
   "metadata": {},
   "outputs": [
    {
     "data": {
      "text/html": [
       "<div>\n",
       "<style scoped>\n",
       "    .dataframe tbody tr th:only-of-type {\n",
       "        vertical-align: middle;\n",
       "    }\n",
       "\n",
       "    .dataframe tbody tr th {\n",
       "        vertical-align: top;\n",
       "    }\n",
       "\n",
       "    .dataframe thead th {\n",
       "        text-align: right;\n",
       "    }\n",
       "</style>\n",
       "<table border=\"1\" class=\"dataframe\">\n",
       "  <thead>\n",
       "    <tr style=\"text-align: right;\">\n",
       "      <th></th>\n",
       "      <th>userId</th>\n",
       "      <th>movieId</th>\n",
       "      <th>rating</th>\n",
       "      <th>timestamp</th>\n",
       "    </tr>\n",
       "  </thead>\n",
       "  <tbody>\n",
       "    <tr>\n",
       "      <th>0</th>\n",
       "      <td>1</td>\n",
       "      <td>1</td>\n",
       "      <td>4.0</td>\n",
       "      <td>964982703</td>\n",
       "    </tr>\n",
       "    <tr>\n",
       "      <th>1</th>\n",
       "      <td>1</td>\n",
       "      <td>3</td>\n",
       "      <td>4.0</td>\n",
       "      <td>964981247</td>\n",
       "    </tr>\n",
       "    <tr>\n",
       "      <th>2</th>\n",
       "      <td>1</td>\n",
       "      <td>6</td>\n",
       "      <td>4.0</td>\n",
       "      <td>964982224</td>\n",
       "    </tr>\n",
       "    <tr>\n",
       "      <th>3</th>\n",
       "      <td>1</td>\n",
       "      <td>47</td>\n",
       "      <td>5.0</td>\n",
       "      <td>964983815</td>\n",
       "    </tr>\n",
       "    <tr>\n",
       "      <th>4</th>\n",
       "      <td>1</td>\n",
       "      <td>50</td>\n",
       "      <td>5.0</td>\n",
       "      <td>964982931</td>\n",
       "    </tr>\n",
       "  </tbody>\n",
       "</table>\n",
       "</div>"
      ],
      "text/plain": [
       "   userId  movieId  rating  timestamp\n",
       "0       1        1     4.0  964982703\n",
       "1       1        3     4.0  964981247\n",
       "2       1        6     4.0  964982224\n",
       "3       1       47     5.0  964983815\n",
       "4       1       50     5.0  964982931"
      ]
     },
     "execution_count": 6,
     "metadata": {},
     "output_type": "execute_result"
    }
   ],
   "source": [
    "ratings = pd.read_csv(\"./ml-latest-small/ratings.csv\")\n",
    "# ratings.groupby('userId').transform(lambda x: (x - x.mean()) / x.std())\n",
    "ratings.head()"
   ]
  },
  {
   "cell_type": "code",
   "execution_count": 7,
   "metadata": {},
   "outputs": [
    {
     "data": {
      "text/html": [
       "<div>\n",
       "<style scoped>\n",
       "    .dataframe tbody tr th:only-of-type {\n",
       "        vertical-align: middle;\n",
       "    }\n",
       "\n",
       "    .dataframe tbody tr th {\n",
       "        vertical-align: top;\n",
       "    }\n",
       "\n",
       "    .dataframe thead th {\n",
       "        text-align: right;\n",
       "    }\n",
       "</style>\n",
       "<table border=\"1\" class=\"dataframe\">\n",
       "  <thead>\n",
       "    <tr style=\"text-align: right;\">\n",
       "      <th></th>\n",
       "      <th>userId</th>\n",
       "      <th>movieId</th>\n",
       "      <th>rating</th>\n",
       "      <th>timestamp</th>\n",
       "      <th>genrating</th>\n",
       "    </tr>\n",
       "  </thead>\n",
       "  <tbody>\n",
       "    <tr>\n",
       "      <th>0</th>\n",
       "      <td>1</td>\n",
       "      <td>1</td>\n",
       "      <td>-0.457947</td>\n",
       "      <td>964982703</td>\n",
       "      <td>[-0.45794663435835353, -0.45794663435835353, -...</td>\n",
       "    </tr>\n",
       "    <tr>\n",
       "      <th>1</th>\n",
       "      <td>1</td>\n",
       "      <td>3</td>\n",
       "      <td>-0.457947</td>\n",
       "      <td>964981247</td>\n",
       "      <td>[-0.0, -0.0, -0.0, -0.45794663435835353, -0.0,...</td>\n",
       "    </tr>\n",
       "    <tr>\n",
       "      <th>2</th>\n",
       "      <td>1</td>\n",
       "      <td>6</td>\n",
       "      <td>-0.457947</td>\n",
       "      <td>964982224</td>\n",
       "      <td>[-0.0, -0.0, -0.0, -0.0, -0.0, -0.0, -0.0, -0....</td>\n",
       "    </tr>\n",
       "    <tr>\n",
       "      <th>3</th>\n",
       "      <td>1</td>\n",
       "      <td>47</td>\n",
       "      <td>0.791978</td>\n",
       "      <td>964983815</td>\n",
       "      <td>[0.0, 0.0, 0.0, 0.0, 0.0, 0.0, 0.0, 0.0, 0.0, ...</td>\n",
       "    </tr>\n",
       "    <tr>\n",
       "      <th>4</th>\n",
       "      <td>1</td>\n",
       "      <td>50</td>\n",
       "      <td>0.791978</td>\n",
       "      <td>964982931</td>\n",
       "      <td>[0.0, 0.0, 0.0, 0.0, 0.0, 0.0, 0.0, 0.0, 0.791...</td>\n",
       "    </tr>\n",
       "  </tbody>\n",
       "</table>\n",
       "</div>"
      ],
      "text/plain": [
       "   userId  movieId    rating  timestamp  \\\n",
       "0       1        1 -0.457947  964982703   \n",
       "1       1        3 -0.457947  964981247   \n",
       "2       1        6 -0.457947  964982224   \n",
       "3       1       47  0.791978  964983815   \n",
       "4       1       50  0.791978  964982931   \n",
       "\n",
       "                                           genrating  \n",
       "0  [-0.45794663435835353, -0.45794663435835353, -...  \n",
       "1  [-0.0, -0.0, -0.0, -0.45794663435835353, -0.0,...  \n",
       "2  [-0.0, -0.0, -0.0, -0.0, -0.0, -0.0, -0.0, -0....  \n",
       "3  [0.0, 0.0, 0.0, 0.0, 0.0, 0.0, 0.0, 0.0, 0.0, ...  \n",
       "4  [0.0, 0.0, 0.0, 0.0, 0.0, 0.0, 0.0, 0.0, 0.791...  "
      ]
     },
     "execution_count": 7,
     "metadata": {},
     "output_type": "execute_result"
    }
   ],
   "source": [
    "def fx(rating, movieId):\n",
    "    # print(genredict[movieId], rating)\n",
    "    return (rating * np.array(genredict[movieId])).astype(object)\n",
    "ratings['rating'] = ratings.groupby('userId')['rating'].transform(lambda x: (x - x.mean()) / x.std())\n",
    "ratings['genrating'] = np.vectorize(fx)(ratings['rating'], ratings['movieId'])\n",
    "ratings.head()"
   ]
  },
  {
   "cell_type": "code",
   "execution_count": 8,
   "metadata": {},
   "outputs": [
    {
     "data": {
      "text/plain": [
       "userId\n",
       "1      [2.3220588165700233, 11.71804623211082, 9.5145...\n",
       "2      [0.8132579362354637, 0.0, 0.0, 0.4494320173932...\n",
       "3      [1.5330834557146171, -3.7039296290065127, -4.6...\n",
       "4      [2.1982045396984713, 2.0291118827985866, 1.860...\n",
       "5      [-3.1207416126885827, 4.222179828931615, 4.313...\n",
       "                             ...                        \n",
       "606    [-31.262294220035166, 3.299502864473409, -14.1...\n",
       "607    [-14.885542842999017, -2.813190388483445, -7.1...\n",
       "608    [14.560134050947918, -0.8150597688281738, -54....\n",
       "609    [-1.5607805854879246, -0.600300225187664, -1.2...\n",
       "610    [5.429683116080637, 16.392510273740378, -2.401...\n",
       "Name: genrating, Length: 610, dtype: object"
      ]
     },
     "execution_count": 8,
     "metadata": {},
     "output_type": "execute_result"
    }
   ],
   "source": [
    "scores = ratings.groupby('userId')['genrating'].sum()\n",
    "# np.argsort(scores[1])\n",
    "scores"
   ]
  },
  {
   "cell_type": "code",
   "execution_count": 14,
   "metadata": {},
   "outputs": [
    {
     "data": {
      "text/html": [
       "<div>\n",
       "<style scoped>\n",
       "    .dataframe tbody tr th:only-of-type {\n",
       "        vertical-align: middle;\n",
       "    }\n",
       "\n",
       "    .dataframe tbody tr th {\n",
       "        vertical-align: top;\n",
       "    }\n",
       "\n",
       "    .dataframe thead th {\n",
       "        text-align: right;\n",
       "    }\n",
       "</style>\n",
       "<table border=\"1\" class=\"dataframe\">\n",
       "  <thead>\n",
       "    <tr style=\"text-align: right;\">\n",
       "      <th></th>\n",
       "      <th>rated</th>\n",
       "      <th>scores</th>\n",
       "    </tr>\n",
       "    <tr>\n",
       "      <th>userId</th>\n",
       "      <th></th>\n",
       "      <th></th>\n",
       "    </tr>\n",
       "  </thead>\n",
       "  <tbody>\n",
       "    <tr>\n",
       "      <th>1</th>\n",
       "      <td>232</td>\n",
       "      <td>[2.3220588165700233, 11.71804623211082, 9.5145...</td>\n",
       "    </tr>\n",
       "    <tr>\n",
       "      <th>2</th>\n",
       "      <td>29</td>\n",
       "      <td>[0.8132579362354637, 0.0, 0.0, 0.4494320173932...</td>\n",
       "    </tr>\n",
       "    <tr>\n",
       "      <th>3</th>\n",
       "      <td>39</td>\n",
       "      <td>[1.5330834557146171, -3.7039296290065127, -4.6...</td>\n",
       "    </tr>\n",
       "    <tr>\n",
       "      <th>4</th>\n",
       "      <td>216</td>\n",
       "      <td>[2.1982045396984713, 2.0291118827985866, 1.860...</td>\n",
       "    </tr>\n",
       "    <tr>\n",
       "      <th>5</th>\n",
       "      <td>44</td>\n",
       "      <td>[-3.1207416126885827, 4.222179828931615, 4.313...</td>\n",
       "    </tr>\n",
       "    <tr>\n",
       "      <th>...</th>\n",
       "      <td>...</td>\n",
       "      <td>...</td>\n",
       "    </tr>\n",
       "    <tr>\n",
       "      <th>606</th>\n",
       "      <td>1115</td>\n",
       "      <td>[-31.262294220035166, 3.299502864473409, -14.1...</td>\n",
       "    </tr>\n",
       "    <tr>\n",
       "      <th>607</th>\n",
       "      <td>187</td>\n",
       "      <td>[-14.885542842999017, -2.813190388483445, -7.1...</td>\n",
       "    </tr>\n",
       "    <tr>\n",
       "      <th>608</th>\n",
       "      <td>831</td>\n",
       "      <td>[14.560134050947918, -0.8150597688281738, -54....</td>\n",
       "    </tr>\n",
       "    <tr>\n",
       "      <th>609</th>\n",
       "      <td>37</td>\n",
       "      <td>[-1.5607805854879246, -0.600300225187664, -1.2...</td>\n",
       "    </tr>\n",
       "    <tr>\n",
       "      <th>610</th>\n",
       "      <td>1302</td>\n",
       "      <td>[5.429683116080637, 16.392510273740378, -2.401...</td>\n",
       "    </tr>\n",
       "  </tbody>\n",
       "</table>\n",
       "<p>610 rows × 2 columns</p>\n",
       "</div>"
      ],
      "text/plain": [
       "        rated                                             scores\n",
       "userId                                                          \n",
       "1         232  [2.3220588165700233, 11.71804623211082, 9.5145...\n",
       "2          29  [0.8132579362354637, 0.0, 0.0, 0.4494320173932...\n",
       "3          39  [1.5330834557146171, -3.7039296290065127, -4.6...\n",
       "4         216  [2.1982045396984713, 2.0291118827985866, 1.860...\n",
       "5          44  [-3.1207416126885827, 4.222179828931615, 4.313...\n",
       "...       ...                                                ...\n",
       "606      1115  [-31.262294220035166, 3.299502864473409, -14.1...\n",
       "607       187  [-14.885542842999017, -2.813190388483445, -7.1...\n",
       "608       831  [14.560134050947918, -0.8150597688281738, -54....\n",
       "609        37  [-1.5607805854879246, -0.600300225187664, -1.2...\n",
       "610      1302  [5.429683116080637, 16.392510273740378, -2.401...\n",
       "\n",
       "[610 rows x 2 columns]"
      ]
     },
     "execution_count": 14,
     "metadata": {},
     "output_type": "execute_result"
    }
   ],
   "source": [
    "users = (ratings.groupby(['userId']).size()).to_frame(name=\"rated\")\n",
    "users[\"scores\"] = scores\n",
    "users"
   ]
  },
  {
   "cell_type": "code",
   "execution_count": 45,
   "metadata": {},
   "outputs": [
    {
     "data": {
      "text/plain": [
       "237.78693982757756"
      ]
     },
     "execution_count": 45,
     "metadata": {},
     "output_type": "execute_result"
    }
   ],
   "source": [
    "exploded = scores.apply(pd.Series).stack().reset_index(drop=True)\n",
    "# exploded[1]\n",
    "# print(type(exploded[1]))\n",
    "exploded.max()\n",
    "# exploded.round().clip(-10,10).hist()"
   ]
  },
  {
   "cell_type": "code",
   "execution_count": 46,
   "metadata": {},
   "outputs": [
    {
     "data": {
      "text/html": [
       "<div>\n",
       "<style scoped>\n",
       "    .dataframe tbody tr th:only-of-type {\n",
       "        vertical-align: middle;\n",
       "    }\n",
       "\n",
       "    .dataframe tbody tr th {\n",
       "        vertical-align: top;\n",
       "    }\n",
       "\n",
       "    .dataframe thead th {\n",
       "        text-align: right;\n",
       "    }\n",
       "</style>\n",
       "<table border=\"1\" class=\"dataframe\">\n",
       "  <thead>\n",
       "    <tr style=\"text-align: right;\">\n",
       "      <th></th>\n",
       "      <th>userId</th>\n",
       "      <th>movieId</th>\n",
       "      <th>rating</th>\n",
       "      <th>timestamp</th>\n",
       "      <th>genrating</th>\n",
       "    </tr>\n",
       "  </thead>\n",
       "  <tbody>\n",
       "    <tr>\n",
       "      <th>59043</th>\n",
       "      <td>385</td>\n",
       "      <td>539</td>\n",
       "      <td>-0.415540</td>\n",
       "      <td>842892309</td>\n",
       "      <td>[-0.0, -0.0, -0.0, -0.4155395955918794, -0.0, ...</td>\n",
       "    </tr>\n",
       "    <tr>\n",
       "      <th>91591</th>\n",
       "      <td>594</td>\n",
       "      <td>1707</td>\n",
       "      <td>0.017434</td>\n",
       "      <td>1138587710</td>\n",
       "      <td>[0.0, 0.0, 0.01743417939969271, 0.017434179399...</td>\n",
       "    </tr>\n",
       "    <tr>\n",
       "      <th>29282</th>\n",
       "      <td>201</td>\n",
       "      <td>293</td>\n",
       "      <td>-1.188893</td>\n",
       "      <td>940350410</td>\n",
       "      <td>[-0.0, -0.0, -0.0, -0.0, -0.0, -0.0, -1.188892...</td>\n",
       "    </tr>\n",
       "    <tr>\n",
       "      <th>15867</th>\n",
       "      <td>103</td>\n",
       "      <td>70728</td>\n",
       "      <td>0.161191</td>\n",
       "      <td>1431956125</td>\n",
       "      <td>[0.0, 0.0, 0.0, 0.16119104369577572, 0.0, 0.0,...</td>\n",
       "    </tr>\n",
       "    <tr>\n",
       "      <th>14675</th>\n",
       "      <td>91</td>\n",
       "      <td>7650</td>\n",
       "      <td>0.094209</td>\n",
       "      <td>1112712463</td>\n",
       "      <td>[0.0, 0.0, 0.0, 0.0, 0.0, 0.0, 0.0, 0.0, 0.0, ...</td>\n",
       "    </tr>\n",
       "  </tbody>\n",
       "</table>\n",
       "</div>"
      ],
      "text/plain": [
       "       userId  movieId    rating   timestamp  \\\n",
       "59043     385      539 -0.415540   842892309   \n",
       "91591     594     1707  0.017434  1138587710   \n",
       "29282     201      293 -1.188893   940350410   \n",
       "15867     103    70728  0.161191  1431956125   \n",
       "14675      91     7650  0.094209  1112712463   \n",
       "\n",
       "                                               genrating  \n",
       "59043  [-0.0, -0.0, -0.0, -0.4155395955918794, -0.0, ...  \n",
       "91591  [0.0, 0.0, 0.01743417939969271, 0.017434179399...  \n",
       "29282  [-0.0, -0.0, -0.0, -0.0, -0.0, -0.0, -1.188892...  \n",
       "15867  [0.0, 0.0, 0.0, 0.16119104369577572, 0.0, 0.0,...  \n",
       "14675  [0.0, 0.0, 0.0, 0.0, 0.0, 0.0, 0.0, 0.0, 0.0, ...  "
      ]
     },
     "execution_count": 46,
     "metadata": {},
     "output_type": "execute_result"
    }
   ],
   "source": [
    "train, test = skl.model_selection.train_test_split(ratings, test_size=0.2)\n",
    "train.head()\n",
    "train['rating'] = train.groupby('userId')['rating'].transform(lambda x: (x - x.mean()) / x.std())\n",
    "train['genrating'] = np.vectorize(fx)(train['rating'], train['movieId'])\n",
    "train.head()"
   ]
  },
  {
   "cell_type": "code",
   "execution_count": 47,
   "metadata": {},
   "outputs": [
    {
     "name": "stdout",
     "output_type": "stream",
     "text": [
      "[-0.         -0.         -0.         -0.         -0.         -0.17257399\n",
      " -0.17257399 -0.17257399 -0.         -0.         -0.         -0.\n",
      " -0.         -0.         -0.         -0.         -0.         -0.\n",
      " -0.         -0.        ]\n"
     ]
    },
    {
     "data": {
      "text/plain": [
       "array([5., 5., 5., 5., 5., 5., 5., 5., 5., 5., 5., 5., 5., 5., 5., 5., 5.,\n",
       "       5., 5., 5.])"
      ]
     },
     "execution_count": 47,
     "metadata": {},
     "output_type": "execute_result"
    }
   ],
   "source": [
    "temp= train['genrating'][16366].astype(float)\n",
    "print(temp)\n",
    "np.rint((10 / (1 + np.exp(-temp*0.2))))"
   ]
  },
  {
   "cell_type": "code",
   "execution_count": 48,
   "metadata": {},
   "outputs": [
    {
     "data": {
      "text/plain": [
       "<AxesSubplot:>"
      ]
     },
     "execution_count": 48,
     "metadata": {},
     "output_type": "execute_result"
    },
    {
     "data": {
      "image/png": "[encoded data removed]",
      "text/plain": [
       "<Figure size 432x288 with 1 Axes>"
      ]
     },
     "metadata": {
      "needs_background": "light"
     },
     "output_type": "display_data"
    }
   ],
   "source": [
    "def gx(genrating):\n",
    "    return np.rint((10 / (1 + np.exp(-genrating.astype(float)*0.2)))).astype(object)\n",
    "train[\"sigmoid\"] = np.vectorize(gx)(train['genrating'])\n",
    "train.head()\n",
    "train['sigmoid'].apply(pd.Series).stack().reset_index(drop=True).hist()\n"
   ]
  },
  {
   "cell_type": "code",
   "execution_count": 49,
   "metadata": {},
   "outputs": [
    {
     "data": {
      "text/html": [
       "<div>\n",
       "<style scoped>\n",
       "    .dataframe tbody tr th:only-of-type {\n",
       "        vertical-align: middle;\n",
       "    }\n",
       "\n",
       "    .dataframe tbody tr th {\n",
       "        vertical-align: top;\n",
       "    }\n",
       "\n",
       "    .dataframe thead th {\n",
       "        text-align: right;\n",
       "    }\n",
       "</style>\n",
       "<table border=\"1\" class=\"dataframe\">\n",
       "  <thead>\n",
       "    <tr style=\"text-align: right;\">\n",
       "      <th></th>\n",
       "      <th>genrating</th>\n",
       "      <th>scores</th>\n",
       "    </tr>\n",
       "    <tr>\n",
       "      <th>userId</th>\n",
       "      <th></th>\n",
       "      <th></th>\n",
       "    </tr>\n",
       "  </thead>\n",
       "  <tbody>\n",
       "    <tr>\n",
       "      <th>1</th>\n",
       "      <td>[1.857934997800074, 9.11427553116611, 7.672102...</td>\n",
       "      <td>[6.0, 9.0, 8.0, 2.0, 3.0, 5.0, 9.0, 5.0, 4.0, ...</td>\n",
       "    </tr>\n",
       "    <tr>\n",
       "      <th>2</th>\n",
       "      <td>[1.1462746905674253, 0.0, 0.0, -0.299028180148...</td>\n",
       "      <td>[6.0, 5.0, 5.0, 5.0, 5.0, 5.0, 5.0, 5.0, 4.0, ...</td>\n",
       "    </tr>\n",
       "    <tr>\n",
       "      <th>3</th>\n",
       "      <td>[1.9145135145758285, -3.6712768519206906, -3.6...</td>\n",
       "      <td>[6.0, 3.0, 3.0, 3.0, 6.0, 3.0, 1.0, 9.0, 4.0, ...</td>\n",
       "    </tr>\n",
       "    <tr>\n",
       "      <th>4</th>\n",
       "      <td>[2.205499368791614, 1.7713459497381465, 1.1287...</td>\n",
       "      <td>[6.0, 6.0, 6.0, 6.0, 6.0, 3.0, 2.0, 3.0, 7.0, ...</td>\n",
       "    </tr>\n",
       "    <tr>\n",
       "      <th>5</th>\n",
       "      <td>[-4.98532631127075, 2.0829103081336697, 2.4243...</td>\n",
       "      <td>[3.0, 6.0, 6.0, 4.0, 6.0, 3.0, 7.0, 3.0, 6.0, ...</td>\n",
       "    </tr>\n",
       "  </tbody>\n",
       "</table>\n",
       "</div>"
      ],
      "text/plain": [
       "                                                genrating  \\\n",
       "userId                                                      \n",
       "1       [1.857934997800074, 9.11427553116611, 7.672102...   \n",
       "2       [1.1462746905674253, 0.0, 0.0, -0.299028180148...   \n",
       "3       [1.9145135145758285, -3.6712768519206906, -3.6...   \n",
       "4       [2.205499368791614, 1.7713459497381465, 1.1287...   \n",
       "5       [-4.98532631127075, 2.0829103081336697, 2.4243...   \n",
       "\n",
       "                                                   scores  \n",
       "userId                                                     \n",
       "1       [6.0, 9.0, 8.0, 2.0, 3.0, 5.0, 9.0, 5.0, 4.0, ...  \n",
       "2       [6.0, 5.0, 5.0, 5.0, 5.0, 5.0, 5.0, 5.0, 4.0, ...  \n",
       "3       [6.0, 3.0, 3.0, 3.0, 6.0, 3.0, 1.0, 9.0, 4.0, ...  \n",
       "4       [6.0, 6.0, 6.0, 6.0, 6.0, 3.0, 2.0, 3.0, 7.0, ...  \n",
       "5       [3.0, 6.0, 6.0, 4.0, 6.0, 3.0, 7.0, 3.0, 6.0, ...  "
      ]
     },
     "execution_count": 49,
     "metadata": {},
     "output_type": "execute_result"
    },
    {
     "data": {
      "image/png": "[encoded data removed]",
      "text/plain": [
       "<Figure size 432x288 with 1 Axes>"
      ]
     },
     "metadata": {
      "needs_background": "light"
     },
     "output_type": "display_data"
    }
   ],
   "source": [
    "train_scores = train.groupby('userId')['genrating'].sum().to_frame()\n",
    "# train_scores.type()\n",
    "def gx(genrating):\n",
    "    return np.rint((10 / (1 + np.exp(-genrating.astype(float)*0.2)))).astype(object)\n",
    "train_scores[\"scores\"] = np.vectorize(gx)(train_scores['genrating'])\n",
    "train_scores['scores'].apply(pd.Series).stack().reset_index(drop=True).hist()\n",
    "train_scores.head()"
   ]
  },
  {
   "cell_type": "code",
   "execution_count": 50,
   "metadata": {},
   "outputs": [
    {
     "data": {
      "text/html": [
       "<div>\n",
       "<style scoped>\n",
       "    .dataframe tbody tr th:only-of-type {\n",
       "        vertical-align: middle;\n",
       "    }\n",
       "\n",
       "    .dataframe tbody tr th {\n",
       "        vertical-align: top;\n",
       "    }\n",
       "\n",
       "    .dataframe thead th {\n",
       "        text-align: right;\n",
       "    }\n",
       "</style>\n",
       "<table border=\"1\" class=\"dataframe\">\n",
       "  <thead>\n",
       "    <tr style=\"text-align: right;\">\n",
       "      <th></th>\n",
       "      <th>userId</th>\n",
       "      <th>movieId</th>\n",
       "      <th>rating</th>\n",
       "      <th>timestamp</th>\n",
       "      <th>genrating</th>\n",
       "      <th>sigmoid</th>\n",
       "    </tr>\n",
       "  </thead>\n",
       "  <tbody>\n",
       "    <tr>\n",
       "      <th>59043</th>\n",
       "      <td>385</td>\n",
       "      <td>539</td>\n",
       "      <td>-0.415540</td>\n",
       "      <td>842892309</td>\n",
       "      <td>[-0.0, -0.0, -0.0, -0.4155395955918794, -0.0, ...</td>\n",
       "      <td>[5.0, 5.0, 5.0, 5.0, 5.0, 5.0, 5.0, 5.0, 5.0, ...</td>\n",
       "    </tr>\n",
       "    <tr>\n",
       "      <th>91591</th>\n",
       "      <td>594</td>\n",
       "      <td>1707</td>\n",
       "      <td>0.017434</td>\n",
       "      <td>1138587710</td>\n",
       "      <td>[0.0, 0.0, 0.01743417939969271, 0.017434179399...</td>\n",
       "      <td>[5.0, 5.0, 5.0, 5.0, 5.0, 5.0, 5.0, 5.0, 5.0, ...</td>\n",
       "    </tr>\n",
       "    <tr>\n",
       "      <th>29282</th>\n",
       "      <td>201</td>\n",
       "      <td>293</td>\n",
       "      <td>-1.188893</td>\n",
       "      <td>940350410</td>\n",
       "      <td>[-0.0, -0.0, -0.0, -0.0, -0.0, -0.0, -1.188892...</td>\n",
       "      <td>[5.0, 5.0, 5.0, 5.0, 5.0, 5.0, 4.0, 4.0, 4.0, ...</td>\n",
       "    </tr>\n",
       "    <tr>\n",
       "      <th>15867</th>\n",
       "      <td>103</td>\n",
       "      <td>70728</td>\n",
       "      <td>0.161191</td>\n",
       "      <td>1431956125</td>\n",
       "      <td>[0.0, 0.0, 0.0, 0.16119104369577572, 0.0, 0.0,...</td>\n",
       "      <td>[5.0, 5.0, 5.0, 5.0, 5.0, 5.0, 5.0, 5.0, 5.0, ...</td>\n",
       "    </tr>\n",
       "    <tr>\n",
       "      <th>14675</th>\n",
       "      <td>91</td>\n",
       "      <td>7650</td>\n",
       "      <td>0.094209</td>\n",
       "      <td>1112712463</td>\n",
       "      <td>[0.0, 0.0, 0.0, 0.0, 0.0, 0.0, 0.0, 0.0, 0.0, ...</td>\n",
       "      <td>[5.0, 5.0, 5.0, 5.0, 5.0, 5.0, 5.0, 5.0, 5.0, ...</td>\n",
       "    </tr>\n",
       "  </tbody>\n",
       "</table>\n",
       "</div>"
      ],
      "text/plain": [
       "       userId  movieId    rating   timestamp  \\\n",
       "59043     385      539 -0.415540   842892309   \n",
       "91591     594     1707  0.017434  1138587710   \n",
       "29282     201      293 -1.188893   940350410   \n",
       "15867     103    70728  0.161191  1431956125   \n",
       "14675      91     7650  0.094209  1112712463   \n",
       "\n",
       "                                               genrating  \\\n",
       "59043  [-0.0, -0.0, -0.0, -0.4155395955918794, -0.0, ...   \n",
       "91591  [0.0, 0.0, 0.01743417939969271, 0.017434179399...   \n",
       "29282  [-0.0, -0.0, -0.0, -0.0, -0.0, -0.0, -1.188892...   \n",
       "15867  [0.0, 0.0, 0.0, 0.16119104369577572, 0.0, 0.0,...   \n",
       "14675  [0.0, 0.0, 0.0, 0.0, 0.0, 0.0, 0.0, 0.0, 0.0, ...   \n",
       "\n",
       "                                                 sigmoid  \n",
       "59043  [5.0, 5.0, 5.0, 5.0, 5.0, 5.0, 5.0, 5.0, 5.0, ...  \n",
       "91591  [5.0, 5.0, 5.0, 5.0, 5.0, 5.0, 5.0, 5.0, 5.0, ...  \n",
       "29282  [5.0, 5.0, 5.0, 5.0, 5.0, 5.0, 4.0, 4.0, 4.0, ...  \n",
       "15867  [5.0, 5.0, 5.0, 5.0, 5.0, 5.0, 5.0, 5.0, 5.0, ...  \n",
       "14675  [5.0, 5.0, 5.0, 5.0, 5.0, 5.0, 5.0, 5.0, 5.0, ...  "
      ]
     },
     "execution_count": 50,
     "metadata": {},
     "output_type": "execute_result"
    }
   ],
   "source": [
    "train.merge(train_scores, on='userId')\n",
    "train.head()"
   ]
  },
  {
   "cell_type": "code",
   "execution_count": 51,
   "metadata": {},
   "outputs": [
    {
     "data": {
      "text/html": [
       "<div>\n",
       "<style scoped>\n",
       "    .dataframe tbody tr th:only-of-type {\n",
       "        vertical-align: middle;\n",
       "    }\n",
       "\n",
       "    .dataframe tbody tr th {\n",
       "        vertical-align: top;\n",
       "    }\n",
       "\n",
       "    .dataframe thead th {\n",
       "        text-align: right;\n",
       "    }\n",
       "</style>\n",
       "<table border=\"1\" class=\"dataframe\">\n",
       "  <thead>\n",
       "    <tr style=\"text-align: right;\">\n",
       "      <th></th>\n",
       "      <th>userId</th>\n",
       "      <th>movieId</th>\n",
       "      <th>rating</th>\n",
       "      <th>timestamp</th>\n",
       "      <th>genrating</th>\n",
       "      <th>sigmoid</th>\n",
       "    </tr>\n",
       "  </thead>\n",
       "  <tbody>\n",
       "    <tr>\n",
       "      <th>59043</th>\n",
       "      <td>385</td>\n",
       "      <td>539</td>\n",
       "      <td>-0.415540</td>\n",
       "      <td>842892309</td>\n",
       "      <td>[-0.0, -0.0, -0.0, -0.4155395955918794, -0.0, ...</td>\n",
       "      <td>[5.0, 5.0, 5.0, 5.0, 5.0, 5.0, 5.0, 5.0, 5.0, ...</td>\n",
       "    </tr>\n",
       "    <tr>\n",
       "      <th>91591</th>\n",
       "      <td>594</td>\n",
       "      <td>1707</td>\n",
       "      <td>0.017434</td>\n",
       "      <td>1138587710</td>\n",
       "      <td>[0.0, 0.0, 0.01743417939969271, 0.017434179399...</td>\n",
       "      <td>[5.0, 5.0, 5.0, 5.0, 5.0, 5.0, 5.0, 5.0, 5.0, ...</td>\n",
       "    </tr>\n",
       "    <tr>\n",
       "      <th>29282</th>\n",
       "      <td>201</td>\n",
       "      <td>293</td>\n",
       "      <td>-1.188893</td>\n",
       "      <td>940350410</td>\n",
       "      <td>[-0.0, -0.0, -0.0, -0.0, -0.0, -0.0, -1.188892...</td>\n",
       "      <td>[5.0, 5.0, 5.0, 5.0, 5.0, 5.0, 4.0, 4.0, 4.0, ...</td>\n",
       "    </tr>\n",
       "    <tr>\n",
       "      <th>15867</th>\n",
       "      <td>103</td>\n",
       "      <td>70728</td>\n",
       "      <td>0.161191</td>\n",
       "      <td>1431956125</td>\n",
       "      <td>[0.0, 0.0, 0.0, 0.16119104369577572, 0.0, 0.0,...</td>\n",
       "      <td>[5.0, 5.0, 5.0, 5.0, 5.0, 5.0, 5.0, 5.0, 5.0, ...</td>\n",
       "    </tr>\n",
       "    <tr>\n",
       "      <th>14675</th>\n",
       "      <td>91</td>\n",
       "      <td>7650</td>\n",
       "      <td>0.094209</td>\n",
       "      <td>1112712463</td>\n",
       "      <td>[0.0, 0.0, 0.0, 0.0, 0.0, 0.0, 0.0, 0.0, 0.0, ...</td>\n",
       "      <td>[5.0, 5.0, 5.0, 5.0, 5.0, 5.0, 5.0, 5.0, 5.0, ...</td>\n",
       "    </tr>\n",
       "  </tbody>\n",
       "</table>\n",
       "</div>"
      ],
      "text/plain": [
       "       userId  movieId    rating   timestamp  \\\n",
       "59043     385      539 -0.415540   842892309   \n",
       "91591     594     1707  0.017434  1138587710   \n",
       "29282     201      293 -1.188893   940350410   \n",
       "15867     103    70728  0.161191  1431956125   \n",
       "14675      91     7650  0.094209  1112712463   \n",
       "\n",
       "                                               genrating  \\\n",
       "59043  [-0.0, -0.0, -0.0, -0.4155395955918794, -0.0, ...   \n",
       "91591  [0.0, 0.0, 0.01743417939969271, 0.017434179399...   \n",
       "29282  [-0.0, -0.0, -0.0, -0.0, -0.0, -0.0, -1.188892...   \n",
       "15867  [0.0, 0.0, 0.0, 0.16119104369577572, 0.0, 0.0,...   \n",
       "14675  [0.0, 0.0, 0.0, 0.0, 0.0, 0.0, 0.0, 0.0, 0.0, ...   \n",
       "\n",
       "                                                 sigmoid  \n",
       "59043  [5.0, 5.0, 5.0, 5.0, 5.0, 5.0, 5.0, 5.0, 5.0, ...  \n",
       "91591  [5.0, 5.0, 5.0, 5.0, 5.0, 5.0, 5.0, 5.0, 5.0, ...  \n",
       "29282  [5.0, 5.0, 5.0, 5.0, 5.0, 5.0, 4.0, 4.0, 4.0, ...  \n",
       "15867  [5.0, 5.0, 5.0, 5.0, 5.0, 5.0, 5.0, 5.0, 5.0, ...  \n",
       "14675  [5.0, 5.0, 5.0, 5.0, 5.0, 5.0, 5.0, 5.0, 5.0, ...  "
      ]
     },
     "execution_count": 51,
     "metadata": {},
     "output_type": "execute_result"
    }
   ],
   "source": [
    "train.head()"
   ]
  },
  {
   "cell_type": "code",
   "execution_count": null,
   "metadata": {},
   "outputs": [],
   "source": []
  }
 ],
 "metadata": {
  "kernelspec": {
   "display_name": "Python 3.10.4 64-bit",
   "language": "python",
   "name": "python3"
  },
  "language_info": {
   "codemirror_mode": {
    "name": "ipython",
    "version": 3
   },
   "file_extension": ".py",
   "mimetype": "text/x-python",
   "name": "python",
   "nbconvert_exporter": "python",
   "pygments_lexer": "ipython3",
   "version": "3.10.4"
  },
  "orig_nbformat": 4,
  "vscode": {
   "interpreter": {
    "hash": "369f2c481f4da34e4445cda3fffd2e751bd1c4d706f27375911949ba6bb62e1c"
   }
  }
 },
 "nbformat": 4,
 "nbformat_minor": 2
}
